{
 "cells": [
  {
   "cell_type": "code",
   "execution_count": 33,
   "metadata": {
    "collapsed": true
   },
   "outputs": [],
   "source": [
    "import pandas as pd\n",
    "import numpy as np\n",
    "from sklearn.neighbors import KNeighborsRegressor\n",
    "from sklearn.metrics import mean_squared_error\n",
    "from sklearn.model_selection import cross_val_score, KFold\n",
    "import matplotlib.pyplot as plt"
   ]
  },
  {
   "cell_type": "code",
   "execution_count": 58,
   "metadata": {
    "collapsed": false
   },
   "outputs": [],
   "source": [
    "%matplotlib inline"
   ]
  },
  {
   "cell_type": "code",
   "execution_count": 2,
   "metadata": {
    "collapsed": true
   },
   "outputs": [],
   "source": [
    "headers = ['symboling', 'normalized-losses', 'make', 'fuel-type', 'aspiration', 'num-of-doors', 'body-style', \n",
    "        'drive-wheels', 'engine-location', 'wheel-base', 'length', 'width', 'height', 'curb-weight', 'engine-type', \n",
    "        'num-of-cylinders', 'engine-size', 'fuel-system', 'bore', 'stroke', 'compression-rate', 'horsepower', 'peak-rpm', 'city-mpg', 'highway-mpg', 'price']\n",
    "cars = pd.read_csv('imports-85.data', names=headers)"
   ]
  },
  {
   "cell_type": "code",
   "execution_count": 3,
   "metadata": {
    "collapsed": false
   },
   "outputs": [
    {
     "data": {
      "text/html": [
       "<div>\n",
       "<table border=\"1\" class=\"dataframe\">\n",
       "  <thead>\n",
       "    <tr style=\"text-align: right;\">\n",
       "      <th></th>\n",
       "      <th>symboling</th>\n",
       "      <th>normalized-losses</th>\n",
       "      <th>make</th>\n",
       "      <th>fuel-type</th>\n",
       "      <th>aspiration</th>\n",
       "      <th>num-of-doors</th>\n",
       "      <th>body-style</th>\n",
       "      <th>drive-wheels</th>\n",
       "      <th>engine-location</th>\n",
       "      <th>wheel-base</th>\n",
       "      <th>...</th>\n",
       "      <th>engine-size</th>\n",
       "      <th>fuel-system</th>\n",
       "      <th>bore</th>\n",
       "      <th>stroke</th>\n",
       "      <th>compression-rate</th>\n",
       "      <th>horsepower</th>\n",
       "      <th>peak-rpm</th>\n",
       "      <th>city-mpg</th>\n",
       "      <th>highway-mpg</th>\n",
       "      <th>price</th>\n",
       "    </tr>\n",
       "  </thead>\n",
       "  <tbody>\n",
       "    <tr>\n",
       "      <th>0</th>\n",
       "      <td>3</td>\n",
       "      <td>?</td>\n",
       "      <td>alfa-romero</td>\n",
       "      <td>gas</td>\n",
       "      <td>std</td>\n",
       "      <td>two</td>\n",
       "      <td>convertible</td>\n",
       "      <td>rwd</td>\n",
       "      <td>front</td>\n",
       "      <td>88.6</td>\n",
       "      <td>...</td>\n",
       "      <td>130</td>\n",
       "      <td>mpfi</td>\n",
       "      <td>3.47</td>\n",
       "      <td>2.68</td>\n",
       "      <td>9.0</td>\n",
       "      <td>111</td>\n",
       "      <td>5000</td>\n",
       "      <td>21</td>\n",
       "      <td>27</td>\n",
       "      <td>13495</td>\n",
       "    </tr>\n",
       "    <tr>\n",
       "      <th>1</th>\n",
       "      <td>3</td>\n",
       "      <td>?</td>\n",
       "      <td>alfa-romero</td>\n",
       "      <td>gas</td>\n",
       "      <td>std</td>\n",
       "      <td>two</td>\n",
       "      <td>convertible</td>\n",
       "      <td>rwd</td>\n",
       "      <td>front</td>\n",
       "      <td>88.6</td>\n",
       "      <td>...</td>\n",
       "      <td>130</td>\n",
       "      <td>mpfi</td>\n",
       "      <td>3.47</td>\n",
       "      <td>2.68</td>\n",
       "      <td>9.0</td>\n",
       "      <td>111</td>\n",
       "      <td>5000</td>\n",
       "      <td>21</td>\n",
       "      <td>27</td>\n",
       "      <td>16500</td>\n",
       "    </tr>\n",
       "    <tr>\n",
       "      <th>2</th>\n",
       "      <td>1</td>\n",
       "      <td>?</td>\n",
       "      <td>alfa-romero</td>\n",
       "      <td>gas</td>\n",
       "      <td>std</td>\n",
       "      <td>two</td>\n",
       "      <td>hatchback</td>\n",
       "      <td>rwd</td>\n",
       "      <td>front</td>\n",
       "      <td>94.5</td>\n",
       "      <td>...</td>\n",
       "      <td>152</td>\n",
       "      <td>mpfi</td>\n",
       "      <td>2.68</td>\n",
       "      <td>3.47</td>\n",
       "      <td>9.0</td>\n",
       "      <td>154</td>\n",
       "      <td>5000</td>\n",
       "      <td>19</td>\n",
       "      <td>26</td>\n",
       "      <td>16500</td>\n",
       "    </tr>\n",
       "    <tr>\n",
       "      <th>3</th>\n",
       "      <td>2</td>\n",
       "      <td>164</td>\n",
       "      <td>audi</td>\n",
       "      <td>gas</td>\n",
       "      <td>std</td>\n",
       "      <td>four</td>\n",
       "      <td>sedan</td>\n",
       "      <td>fwd</td>\n",
       "      <td>front</td>\n",
       "      <td>99.8</td>\n",
       "      <td>...</td>\n",
       "      <td>109</td>\n",
       "      <td>mpfi</td>\n",
       "      <td>3.19</td>\n",
       "      <td>3.40</td>\n",
       "      <td>10.0</td>\n",
       "      <td>102</td>\n",
       "      <td>5500</td>\n",
       "      <td>24</td>\n",
       "      <td>30</td>\n",
       "      <td>13950</td>\n",
       "    </tr>\n",
       "    <tr>\n",
       "      <th>4</th>\n",
       "      <td>2</td>\n",
       "      <td>164</td>\n",
       "      <td>audi</td>\n",
       "      <td>gas</td>\n",
       "      <td>std</td>\n",
       "      <td>four</td>\n",
       "      <td>sedan</td>\n",
       "      <td>4wd</td>\n",
       "      <td>front</td>\n",
       "      <td>99.4</td>\n",
       "      <td>...</td>\n",
       "      <td>136</td>\n",
       "      <td>mpfi</td>\n",
       "      <td>3.19</td>\n",
       "      <td>3.40</td>\n",
       "      <td>8.0</td>\n",
       "      <td>115</td>\n",
       "      <td>5500</td>\n",
       "      <td>18</td>\n",
       "      <td>22</td>\n",
       "      <td>17450</td>\n",
       "    </tr>\n",
       "  </tbody>\n",
       "</table>\n",
       "<p>5 rows × 26 columns</p>\n",
       "</div>"
      ],
      "text/plain": [
       "   symboling normalized-losses         make fuel-type aspiration num-of-doors  \\\n",
       "0          3                 ?  alfa-romero       gas        std          two   \n",
       "1          3                 ?  alfa-romero       gas        std          two   \n",
       "2          1                 ?  alfa-romero       gas        std          two   \n",
       "3          2               164         audi       gas        std         four   \n",
       "4          2               164         audi       gas        std         four   \n",
       "\n",
       "    body-style drive-wheels engine-location  wheel-base  ...    engine-size  \\\n",
       "0  convertible          rwd           front        88.6  ...            130   \n",
       "1  convertible          rwd           front        88.6  ...            130   \n",
       "2    hatchback          rwd           front        94.5  ...            152   \n",
       "3        sedan          fwd           front        99.8  ...            109   \n",
       "4        sedan          4wd           front        99.4  ...            136   \n",
       "\n",
       "   fuel-system  bore  stroke compression-rate horsepower  peak-rpm city-mpg  \\\n",
       "0         mpfi  3.47    2.68              9.0        111      5000       21   \n",
       "1         mpfi  3.47    2.68              9.0        111      5000       21   \n",
       "2         mpfi  2.68    3.47              9.0        154      5000       19   \n",
       "3         mpfi  3.19    3.40             10.0        102      5500       24   \n",
       "4         mpfi  3.19    3.40              8.0        115      5500       18   \n",
       "\n",
       "  highway-mpg  price  \n",
       "0          27  13495  \n",
       "1          27  16500  \n",
       "2          26  16500  \n",
       "3          30  13950  \n",
       "4          22  17450  \n",
       "\n",
       "[5 rows x 26 columns]"
      ]
     },
     "execution_count": 3,
     "metadata": {},
     "output_type": "execute_result"
    }
   ],
   "source": [
    "cars.head()"
   ]
  },
  {
   "cell_type": "code",
   "execution_count": 4,
   "metadata": {
    "collapsed": false
   },
   "outputs": [],
   "source": [
    "features = ['wheel-base', 'length', 'width', 'height', 'curb-weight', 'engine-size', 'bore', 'stroke', 'compression-rate', 'horsepower', 'peak-rpm', 'city-mpg', 'highway-mpg']\n",
    "target = ['price']\n",
    "numeric = ['price', 'wheel-base', 'length', 'width', 'height', 'curb-weight', 'engine-size', 'bore', 'stroke', 'compression-rate', 'horsepower', 'peak-rpm', 'city-mpg', 'highway-mpg']"
   ]
  },
  {
   "cell_type": "markdown",
   "metadata": {},
   "source": [
    "# Cleaning the dataset"
   ]
  },
  {
   "cell_type": "code",
   "execution_count": 5,
   "metadata": {
    "collapsed": false
   },
   "outputs": [
    {
     "data": {
      "text/plain": [
       "?      41\n",
       "161    11\n",
       "91      8\n",
       "150     7\n",
       "128     6\n",
       "Name: normalized-losses, dtype: int64"
      ]
     },
     "execution_count": 5,
     "metadata": {},
     "output_type": "execute_result"
    }
   ],
   "source": [
    "cars['normalized-losses'].value_counts().head()"
   ]
  },
  {
   "cell_type": "code",
   "execution_count": 6,
   "metadata": {
    "collapsed": false
   },
   "outputs": [
    {
     "data": {
      "text/html": [
       "<div>\n",
       "<table border=\"1\" class=\"dataframe\">\n",
       "  <thead>\n",
       "    <tr style=\"text-align: right;\">\n",
       "      <th></th>\n",
       "      <th>symboling</th>\n",
       "      <th>normalized-losses</th>\n",
       "      <th>make</th>\n",
       "      <th>fuel-type</th>\n",
       "      <th>aspiration</th>\n",
       "      <th>num-of-doors</th>\n",
       "      <th>body-style</th>\n",
       "      <th>drive-wheels</th>\n",
       "      <th>engine-location</th>\n",
       "      <th>wheel-base</th>\n",
       "      <th>...</th>\n",
       "      <th>engine-size</th>\n",
       "      <th>fuel-system</th>\n",
       "      <th>bore</th>\n",
       "      <th>stroke</th>\n",
       "      <th>compression-rate</th>\n",
       "      <th>horsepower</th>\n",
       "      <th>peak-rpm</th>\n",
       "      <th>city-mpg</th>\n",
       "      <th>highway-mpg</th>\n",
       "      <th>price</th>\n",
       "    </tr>\n",
       "  </thead>\n",
       "  <tbody>\n",
       "    <tr>\n",
       "      <th>0</th>\n",
       "      <td>3</td>\n",
       "      <td>NaN</td>\n",
       "      <td>alfa-romero</td>\n",
       "      <td>gas</td>\n",
       "      <td>std</td>\n",
       "      <td>two</td>\n",
       "      <td>convertible</td>\n",
       "      <td>rwd</td>\n",
       "      <td>front</td>\n",
       "      <td>88.6</td>\n",
       "      <td>...</td>\n",
       "      <td>130</td>\n",
       "      <td>mpfi</td>\n",
       "      <td>3.47</td>\n",
       "      <td>2.68</td>\n",
       "      <td>9.0</td>\n",
       "      <td>111</td>\n",
       "      <td>5000</td>\n",
       "      <td>21</td>\n",
       "      <td>27</td>\n",
       "      <td>13495</td>\n",
       "    </tr>\n",
       "    <tr>\n",
       "      <th>1</th>\n",
       "      <td>3</td>\n",
       "      <td>NaN</td>\n",
       "      <td>alfa-romero</td>\n",
       "      <td>gas</td>\n",
       "      <td>std</td>\n",
       "      <td>two</td>\n",
       "      <td>convertible</td>\n",
       "      <td>rwd</td>\n",
       "      <td>front</td>\n",
       "      <td>88.6</td>\n",
       "      <td>...</td>\n",
       "      <td>130</td>\n",
       "      <td>mpfi</td>\n",
       "      <td>3.47</td>\n",
       "      <td>2.68</td>\n",
       "      <td>9.0</td>\n",
       "      <td>111</td>\n",
       "      <td>5000</td>\n",
       "      <td>21</td>\n",
       "      <td>27</td>\n",
       "      <td>16500</td>\n",
       "    </tr>\n",
       "    <tr>\n",
       "      <th>2</th>\n",
       "      <td>1</td>\n",
       "      <td>NaN</td>\n",
       "      <td>alfa-romero</td>\n",
       "      <td>gas</td>\n",
       "      <td>std</td>\n",
       "      <td>two</td>\n",
       "      <td>hatchback</td>\n",
       "      <td>rwd</td>\n",
       "      <td>front</td>\n",
       "      <td>94.5</td>\n",
       "      <td>...</td>\n",
       "      <td>152</td>\n",
       "      <td>mpfi</td>\n",
       "      <td>2.68</td>\n",
       "      <td>3.47</td>\n",
       "      <td>9.0</td>\n",
       "      <td>154</td>\n",
       "      <td>5000</td>\n",
       "      <td>19</td>\n",
       "      <td>26</td>\n",
       "      <td>16500</td>\n",
       "    </tr>\n",
       "    <tr>\n",
       "      <th>3</th>\n",
       "      <td>2</td>\n",
       "      <td>164</td>\n",
       "      <td>audi</td>\n",
       "      <td>gas</td>\n",
       "      <td>std</td>\n",
       "      <td>four</td>\n",
       "      <td>sedan</td>\n",
       "      <td>fwd</td>\n",
       "      <td>front</td>\n",
       "      <td>99.8</td>\n",
       "      <td>...</td>\n",
       "      <td>109</td>\n",
       "      <td>mpfi</td>\n",
       "      <td>3.19</td>\n",
       "      <td>3.40</td>\n",
       "      <td>10.0</td>\n",
       "      <td>102</td>\n",
       "      <td>5500</td>\n",
       "      <td>24</td>\n",
       "      <td>30</td>\n",
       "      <td>13950</td>\n",
       "    </tr>\n",
       "    <tr>\n",
       "      <th>4</th>\n",
       "      <td>2</td>\n",
       "      <td>164</td>\n",
       "      <td>audi</td>\n",
       "      <td>gas</td>\n",
       "      <td>std</td>\n",
       "      <td>four</td>\n",
       "      <td>sedan</td>\n",
       "      <td>4wd</td>\n",
       "      <td>front</td>\n",
       "      <td>99.4</td>\n",
       "      <td>...</td>\n",
       "      <td>136</td>\n",
       "      <td>mpfi</td>\n",
       "      <td>3.19</td>\n",
       "      <td>3.40</td>\n",
       "      <td>8.0</td>\n",
       "      <td>115</td>\n",
       "      <td>5500</td>\n",
       "      <td>18</td>\n",
       "      <td>22</td>\n",
       "      <td>17450</td>\n",
       "    </tr>\n",
       "  </tbody>\n",
       "</table>\n",
       "<p>5 rows × 26 columns</p>\n",
       "</div>"
      ],
      "text/plain": [
       "   symboling normalized-losses         make fuel-type aspiration num-of-doors  \\\n",
       "0          3               NaN  alfa-romero       gas        std          two   \n",
       "1          3               NaN  alfa-romero       gas        std          two   \n",
       "2          1               NaN  alfa-romero       gas        std          two   \n",
       "3          2               164         audi       gas        std         four   \n",
       "4          2               164         audi       gas        std         four   \n",
       "\n",
       "    body-style drive-wheels engine-location  wheel-base  ...    engine-size  \\\n",
       "0  convertible          rwd           front        88.6  ...            130   \n",
       "1  convertible          rwd           front        88.6  ...            130   \n",
       "2    hatchback          rwd           front        94.5  ...            152   \n",
       "3        sedan          fwd           front        99.8  ...            109   \n",
       "4        sedan          4wd           front        99.4  ...            136   \n",
       "\n",
       "   fuel-system  bore  stroke compression-rate horsepower  peak-rpm city-mpg  \\\n",
       "0         mpfi  3.47    2.68              9.0        111      5000       21   \n",
       "1         mpfi  3.47    2.68              9.0        111      5000       21   \n",
       "2         mpfi  2.68    3.47              9.0        154      5000       19   \n",
       "3         mpfi  3.19    3.40             10.0        102      5500       24   \n",
       "4         mpfi  3.19    3.40              8.0        115      5500       18   \n",
       "\n",
       "  highway-mpg  price  \n",
       "0          27  13495  \n",
       "1          27  16500  \n",
       "2          26  16500  \n",
       "3          30  13950  \n",
       "4          22  17450  \n",
       "\n",
       "[5 rows x 26 columns]"
      ]
     },
     "execution_count": 6,
     "metadata": {},
     "output_type": "execute_result"
    }
   ],
   "source": [
    "cars = cars.replace('?', np.nan)\n",
    "cars.head()"
   ]
  },
  {
   "cell_type": "code",
   "execution_count": 7,
   "metadata": {
    "collapsed": false
   },
   "outputs": [
    {
     "data": {
      "text/plain": [
       "symboling              int64\n",
       "normalized-losses    float64\n",
       "make                  object\n",
       "fuel-type             object\n",
       "aspiration            object\n",
       "num-of-doors          object\n",
       "body-style            object\n",
       "drive-wheels          object\n",
       "engine-location       object\n",
       "wheel-base           float64\n",
       "length               float64\n",
       "width                float64\n",
       "height               float64\n",
       "curb-weight            int64\n",
       "engine-type           object\n",
       "num-of-cylinders      object\n",
       "engine-size            int64\n",
       "fuel-system           object\n",
       "bore                 float64\n",
       "stroke               float64\n",
       "compression-rate     float64\n",
       "horsepower           float64\n",
       "peak-rpm             float64\n",
       "city-mpg               int64\n",
       "highway-mpg            int64\n",
       "price                float64\n",
       "dtype: object"
      ]
     },
     "execution_count": 7,
     "metadata": {},
     "output_type": "execute_result"
    }
   ],
   "source": [
    "cars['normalized-losses'] = cars['normalized-losses'].astype('float')\n",
    "cars['bore'] = cars['bore'].astype('float')\n",
    "cars['stroke'] = cars['stroke'].astype('float')\n",
    "cars['horsepower'] = cars['horsepower'].astype('float')\n",
    "cars['peak-rpm'] = cars['peak-rpm'].astype('float')\n",
    "cars['price'] = cars['price'].astype('float')\n",
    "cars.dtypes"
   ]
  },
  {
   "cell_type": "code",
   "execution_count": 8,
   "metadata": {
    "collapsed": false
   },
   "outputs": [
    {
     "data": {
      "text/plain": [
       "symboling             0\n",
       "normalized-losses    41\n",
       "make                  0\n",
       "fuel-type             0\n",
       "aspiration            0\n",
       "num-of-doors          2\n",
       "body-style            0\n",
       "drive-wheels          0\n",
       "engine-location       0\n",
       "wheel-base            0\n",
       "length                0\n",
       "width                 0\n",
       "height                0\n",
       "curb-weight           0\n",
       "engine-type           0\n",
       "num-of-cylinders      0\n",
       "engine-size           0\n",
       "fuel-system           0\n",
       "bore                  4\n",
       "stroke                4\n",
       "compression-rate      0\n",
       "horsepower            2\n",
       "peak-rpm              2\n",
       "city-mpg              0\n",
       "highway-mpg           0\n",
       "price                 4\n",
       "dtype: int64"
      ]
     },
     "execution_count": 8,
     "metadata": {},
     "output_type": "execute_result"
    }
   ],
   "source": [
    "cars.isnull().sum()"
   ]
  },
  {
   "cell_type": "code",
   "execution_count": 9,
   "metadata": {
    "collapsed": false
   },
   "outputs": [
    {
     "data": {
      "text/plain": [
       "Index(['symboling', 'make', 'fuel-type', 'aspiration', 'num-of-doors',\n",
       "       'body-style', 'drive-wheels', 'engine-location', 'wheel-base', 'length',\n",
       "       'width', 'height', 'curb-weight', 'engine-type', 'num-of-cylinders',\n",
       "       'engine-size', 'fuel-system', 'bore', 'stroke', 'compression-rate',\n",
       "       'horsepower', 'peak-rpm', 'city-mpg', 'highway-mpg', 'price'],\n",
       "      dtype='object')"
      ]
     },
     "execution_count": 9,
     "metadata": {},
     "output_type": "execute_result"
    }
   ],
   "source": [
    "# Remove normalized losses column because too many null values\n",
    "cars = cars.drop(['normalized-losses'], axis=1)\n",
    "cars.columns"
   ]
  },
  {
   "cell_type": "code",
   "execution_count": 10,
   "metadata": {
    "collapsed": false
   },
   "outputs": [
    {
     "data": {
      "text/plain": [
       "symboling           0\n",
       "make                0\n",
       "fuel-type           0\n",
       "aspiration          0\n",
       "num-of-doors        2\n",
       "body-style          0\n",
       "drive-wheels        0\n",
       "engine-location     0\n",
       "wheel-base          0\n",
       "length              0\n",
       "width               0\n",
       "height              0\n",
       "curb-weight         0\n",
       "engine-type         0\n",
       "num-of-cylinders    0\n",
       "engine-size         0\n",
       "fuel-system         0\n",
       "bore                0\n",
       "stroke              0\n",
       "compression-rate    0\n",
       "horsepower          2\n",
       "peak-rpm            2\n",
       "city-mpg            0\n",
       "highway-mpg         0\n",
       "price               4\n",
       "dtype: int64"
      ]
     },
     "execution_count": 10,
     "metadata": {},
     "output_type": "execute_result"
    }
   ],
   "source": [
    "# Use mean values of columns to fill NaN values for certain columns\n",
    "# The values of these two columns don't range that much\n",
    "cars['stroke'] = cars['stroke'].fillna(cars['stroke'].mean())\n",
    "cars['bore'] = cars['bore'].fillna(cars['bore'].mean())\n",
    "cars.isnull().sum()"
   ]
  },
  {
   "cell_type": "code",
   "execution_count": 11,
   "metadata": {
    "collapsed": false
   },
   "outputs": [
    {
     "data": {
      "text/plain": [
       "symboling           0\n",
       "make                0\n",
       "fuel-type           0\n",
       "aspiration          0\n",
       "num-of-doors        0\n",
       "body-style          0\n",
       "drive-wheels        0\n",
       "engine-location     0\n",
       "wheel-base          0\n",
       "length              0\n",
       "width               0\n",
       "height              0\n",
       "curb-weight         0\n",
       "engine-type         0\n",
       "num-of-cylinders    0\n",
       "engine-size         0\n",
       "fuel-system         0\n",
       "bore                0\n",
       "stroke              0\n",
       "compression-rate    0\n",
       "horsepower          0\n",
       "peak-rpm            0\n",
       "city-mpg            0\n",
       "highway-mpg         0\n",
       "price               0\n",
       "dtype: int64"
      ]
     },
     "execution_count": 11,
     "metadata": {},
     "output_type": "execute_result"
    }
   ],
   "source": [
    "# Drop remaining columns with missing values\n",
    "cars = cars.dropna()\n",
    "cars.isnull().sum()"
   ]
  },
  {
   "cell_type": "code",
   "execution_count": 12,
   "metadata": {
    "collapsed": false
   },
   "outputs": [
    {
     "data": {
      "text/html": [
       "<div>\n",
       "<table border=\"1\" class=\"dataframe\">\n",
       "  <thead>\n",
       "    <tr style=\"text-align: right;\">\n",
       "      <th></th>\n",
       "      <th>price</th>\n",
       "      <th>wheel-base</th>\n",
       "      <th>length</th>\n",
       "      <th>width</th>\n",
       "      <th>height</th>\n",
       "      <th>curb-weight</th>\n",
       "      <th>engine-size</th>\n",
       "      <th>bore</th>\n",
       "      <th>stroke</th>\n",
       "      <th>compression-rate</th>\n",
       "      <th>horsepower</th>\n",
       "      <th>peak-rpm</th>\n",
       "      <th>city-mpg</th>\n",
       "      <th>highway-mpg</th>\n",
       "    </tr>\n",
       "  </thead>\n",
       "  <tbody>\n",
       "    <tr>\n",
       "      <th>0</th>\n",
       "      <td>13495.0</td>\n",
       "      <td>88.6</td>\n",
       "      <td>168.8</td>\n",
       "      <td>64.1</td>\n",
       "      <td>48.8</td>\n",
       "      <td>2548</td>\n",
       "      <td>130</td>\n",
       "      <td>3.47</td>\n",
       "      <td>2.68</td>\n",
       "      <td>9.0</td>\n",
       "      <td>111.0</td>\n",
       "      <td>5000.0</td>\n",
       "      <td>21</td>\n",
       "      <td>27</td>\n",
       "    </tr>\n",
       "    <tr>\n",
       "      <th>1</th>\n",
       "      <td>16500.0</td>\n",
       "      <td>88.6</td>\n",
       "      <td>168.8</td>\n",
       "      <td>64.1</td>\n",
       "      <td>48.8</td>\n",
       "      <td>2548</td>\n",
       "      <td>130</td>\n",
       "      <td>3.47</td>\n",
       "      <td>2.68</td>\n",
       "      <td>9.0</td>\n",
       "      <td>111.0</td>\n",
       "      <td>5000.0</td>\n",
       "      <td>21</td>\n",
       "      <td>27</td>\n",
       "    </tr>\n",
       "    <tr>\n",
       "      <th>2</th>\n",
       "      <td>16500.0</td>\n",
       "      <td>94.5</td>\n",
       "      <td>171.2</td>\n",
       "      <td>65.5</td>\n",
       "      <td>52.4</td>\n",
       "      <td>2823</td>\n",
       "      <td>152</td>\n",
       "      <td>2.68</td>\n",
       "      <td>3.47</td>\n",
       "      <td>9.0</td>\n",
       "      <td>154.0</td>\n",
       "      <td>5000.0</td>\n",
       "      <td>19</td>\n",
       "      <td>26</td>\n",
       "    </tr>\n",
       "    <tr>\n",
       "      <th>3</th>\n",
       "      <td>13950.0</td>\n",
       "      <td>99.8</td>\n",
       "      <td>176.6</td>\n",
       "      <td>66.2</td>\n",
       "      <td>54.3</td>\n",
       "      <td>2337</td>\n",
       "      <td>109</td>\n",
       "      <td>3.19</td>\n",
       "      <td>3.40</td>\n",
       "      <td>10.0</td>\n",
       "      <td>102.0</td>\n",
       "      <td>5500.0</td>\n",
       "      <td>24</td>\n",
       "      <td>30</td>\n",
       "    </tr>\n",
       "    <tr>\n",
       "      <th>4</th>\n",
       "      <td>17450.0</td>\n",
       "      <td>99.4</td>\n",
       "      <td>176.6</td>\n",
       "      <td>66.4</td>\n",
       "      <td>54.3</td>\n",
       "      <td>2824</td>\n",
       "      <td>136</td>\n",
       "      <td>3.19</td>\n",
       "      <td>3.40</td>\n",
       "      <td>8.0</td>\n",
       "      <td>115.0</td>\n",
       "      <td>5500.0</td>\n",
       "      <td>18</td>\n",
       "      <td>22</td>\n",
       "    </tr>\n",
       "  </tbody>\n",
       "</table>\n",
       "</div>"
      ],
      "text/plain": [
       "     price  wheel-base  length  width  height  curb-weight  engine-size  bore  \\\n",
       "0  13495.0        88.6   168.8   64.1    48.8         2548          130  3.47   \n",
       "1  16500.0        88.6   168.8   64.1    48.8         2548          130  3.47   \n",
       "2  16500.0        94.5   171.2   65.5    52.4         2823          152  2.68   \n",
       "3  13950.0        99.8   176.6   66.2    54.3         2337          109  3.19   \n",
       "4  17450.0        99.4   176.6   66.4    54.3         2824          136  3.19   \n",
       "\n",
       "   stroke  compression-rate  horsepower  peak-rpm  city-mpg  highway-mpg  \n",
       "0    2.68               9.0       111.0    5000.0        21           27  \n",
       "1    2.68               9.0       111.0    5000.0        21           27  \n",
       "2    3.47               9.0       154.0    5000.0        19           26  \n",
       "3    3.40              10.0       102.0    5500.0        24           30  \n",
       "4    3.40               8.0       115.0    5500.0        18           22  "
      ]
     },
     "execution_count": 12,
     "metadata": {},
     "output_type": "execute_result"
    }
   ],
   "source": [
    "# Use numeric cars\n",
    "num_cars = cars[numeric]\n",
    "num_cars.head()"
   ]
  },
  {
   "cell_type": "code",
   "execution_count": 13,
   "metadata": {
    "collapsed": false
   },
   "outputs": [
    {
     "data": {
      "text/html": [
       "<div>\n",
       "<table border=\"1\" class=\"dataframe\">\n",
       "  <thead>\n",
       "    <tr style=\"text-align: right;\">\n",
       "      <th></th>\n",
       "      <th>price</th>\n",
       "      <th>wheel-base</th>\n",
       "      <th>length</th>\n",
       "      <th>width</th>\n",
       "      <th>height</th>\n",
       "      <th>curb-weight</th>\n",
       "      <th>engine-size</th>\n",
       "      <th>bore</th>\n",
       "      <th>stroke</th>\n",
       "      <th>compression-rate</th>\n",
       "      <th>horsepower</th>\n",
       "      <th>peak-rpm</th>\n",
       "      <th>city-mpg</th>\n",
       "      <th>highway-mpg</th>\n",
       "    </tr>\n",
       "  </thead>\n",
       "  <tbody>\n",
       "    <tr>\n",
       "      <th>0</th>\n",
       "      <td>13495.0</td>\n",
       "      <td>0.058309</td>\n",
       "      <td>0.413433</td>\n",
       "      <td>0.324786</td>\n",
       "      <td>0.083333</td>\n",
       "      <td>0.411171</td>\n",
       "      <td>0.260377</td>\n",
       "      <td>0.664286</td>\n",
       "      <td>0.290476</td>\n",
       "      <td>0.1250</td>\n",
       "      <td>0.294393</td>\n",
       "      <td>0.346939</td>\n",
       "      <td>0.222222</td>\n",
       "      <td>0.289474</td>\n",
       "    </tr>\n",
       "    <tr>\n",
       "      <th>1</th>\n",
       "      <td>16500.0</td>\n",
       "      <td>0.058309</td>\n",
       "      <td>0.413433</td>\n",
       "      <td>0.324786</td>\n",
       "      <td>0.083333</td>\n",
       "      <td>0.411171</td>\n",
       "      <td>0.260377</td>\n",
       "      <td>0.664286</td>\n",
       "      <td>0.290476</td>\n",
       "      <td>0.1250</td>\n",
       "      <td>0.294393</td>\n",
       "      <td>0.346939</td>\n",
       "      <td>0.222222</td>\n",
       "      <td>0.289474</td>\n",
       "    </tr>\n",
       "    <tr>\n",
       "      <th>2</th>\n",
       "      <td>16500.0</td>\n",
       "      <td>0.230321</td>\n",
       "      <td>0.449254</td>\n",
       "      <td>0.444444</td>\n",
       "      <td>0.383333</td>\n",
       "      <td>0.517843</td>\n",
       "      <td>0.343396</td>\n",
       "      <td>0.100000</td>\n",
       "      <td>0.666667</td>\n",
       "      <td>0.1250</td>\n",
       "      <td>0.495327</td>\n",
       "      <td>0.346939</td>\n",
       "      <td>0.166667</td>\n",
       "      <td>0.263158</td>\n",
       "    </tr>\n",
       "    <tr>\n",
       "      <th>3</th>\n",
       "      <td>13950.0</td>\n",
       "      <td>0.384840</td>\n",
       "      <td>0.529851</td>\n",
       "      <td>0.504274</td>\n",
       "      <td>0.541667</td>\n",
       "      <td>0.329325</td>\n",
       "      <td>0.181132</td>\n",
       "      <td>0.464286</td>\n",
       "      <td>0.633333</td>\n",
       "      <td>0.1875</td>\n",
       "      <td>0.252336</td>\n",
       "      <td>0.551020</td>\n",
       "      <td>0.305556</td>\n",
       "      <td>0.368421</td>\n",
       "    </tr>\n",
       "    <tr>\n",
       "      <th>4</th>\n",
       "      <td>17450.0</td>\n",
       "      <td>0.373178</td>\n",
       "      <td>0.529851</td>\n",
       "      <td>0.521368</td>\n",
       "      <td>0.541667</td>\n",
       "      <td>0.518231</td>\n",
       "      <td>0.283019</td>\n",
       "      <td>0.464286</td>\n",
       "      <td>0.633333</td>\n",
       "      <td>0.0625</td>\n",
       "      <td>0.313084</td>\n",
       "      <td>0.551020</td>\n",
       "      <td>0.138889</td>\n",
       "      <td>0.157895</td>\n",
       "    </tr>\n",
       "  </tbody>\n",
       "</table>\n",
       "</div>"
      ],
      "text/plain": [
       "     price  wheel-base    length     width    height  curb-weight  \\\n",
       "0  13495.0    0.058309  0.413433  0.324786  0.083333     0.411171   \n",
       "1  16500.0    0.058309  0.413433  0.324786  0.083333     0.411171   \n",
       "2  16500.0    0.230321  0.449254  0.444444  0.383333     0.517843   \n",
       "3  13950.0    0.384840  0.529851  0.504274  0.541667     0.329325   \n",
       "4  17450.0    0.373178  0.529851  0.521368  0.541667     0.518231   \n",
       "\n",
       "   engine-size      bore    stroke  compression-rate  horsepower  peak-rpm  \\\n",
       "0     0.260377  0.664286  0.290476            0.1250    0.294393  0.346939   \n",
       "1     0.260377  0.664286  0.290476            0.1250    0.294393  0.346939   \n",
       "2     0.343396  0.100000  0.666667            0.1250    0.495327  0.346939   \n",
       "3     0.181132  0.464286  0.633333            0.1875    0.252336  0.551020   \n",
       "4     0.283019  0.464286  0.633333            0.0625    0.313084  0.551020   \n",
       "\n",
       "   city-mpg  highway-mpg  \n",
       "0  0.222222     0.289474  \n",
       "1  0.222222     0.289474  \n",
       "2  0.166667     0.263158  \n",
       "3  0.305556     0.368421  \n",
       "4  0.138889     0.157895  "
      ]
     },
     "execution_count": 13,
     "metadata": {},
     "output_type": "execute_result"
    }
   ],
   "source": [
    "# Normalize all columns except the target column on a 0-1 scale\n",
    "# formula: norm = (df - df.min()) / (df.max() - df.min())\n",
    "price_col = num_cars[target]\n",
    "num_cars = (num_cars - num_cars.min()) / (num_cars.max() - num_cars.min())\n",
    "num_cars[target] = price_col\n",
    "num_cars.head()"
   ]
  },
  {
   "cell_type": "markdown",
   "metadata": {},
   "source": [
    "# Univariate KNN"
   ]
  },
  {
   "cell_type": "code",
   "execution_count": 19,
   "metadata": {
    "collapsed": true
   },
   "outputs": [],
   "source": [
    "def knn_train_test(train_col, target_col, k_val):\n",
    "    kf = KFold(5, shuffle=True, random_state=27)\n",
    "    knn = KNeighborsRegressor(n_neighbors=k_val)\n",
    "    mses = cross_val_score(knn, train_col, target_col, scoring='neg_mean_squared_error', cv=kf)\n",
    "    return np.sqrt(np.absolute(mses)).mean()"
   ]
  },
  {
   "cell_type": "code",
   "execution_count": 25,
   "metadata": {
    "collapsed": false
   },
   "outputs": [
    {
     "name": "stdout",
     "output_type": "stream",
     "text": [
      "wheel-base:  5825.00065567\n",
      "length:  4998.32384086\n",
      "width:  4389.97210156\n",
      "height:  7854.31580804\n",
      "curb-weight:  4509.64408904\n",
      "engine-size:  2980.1977597\n",
      "bore:  6776.72228873\n",
      "stroke:  7471.20897226\n",
      "compression-rate:  6340.38563288\n",
      "horsepower:  3700.90978449\n",
      "peak-rpm:  7573.70589944\n",
      "city-mpg:  4397.55512478\n",
      "highway-mpg:  4502.39256556\n"
     ]
    }
   ],
   "source": [
    "# Testing the RMSE for each column using a k value of 5\n",
    "for f in features:\n",
    "    print(f + ': ', knn_train_test(num_cars[[f]], num_cars[target], 5))"
   ]
  },
  {
   "cell_type": "code",
   "execution_count": 64,
   "metadata": {
    "collapsed": false
   },
   "outputs": [
    {
     "data": {
      "text/plain": [
       "{'bore': {1: 8284.4942675957609,\n",
       "  3: 6666.874678394287,\n",
       "  5: 6776.7222887288617,\n",
       "  7: 6800.3506972531222,\n",
       "  9: 6767.6675140769821},\n",
       " 'city-mpg': {1: 5751.7582499478176,\n",
       "  3: 4608.7183742193647,\n",
       "  5: 4397.5551247799613,\n",
       "  7: 4692.7588328043885,\n",
       "  9: 4685.8749089217908},\n",
       " 'compression-rate': {1: 6473.6092862833229,\n",
       "  3: 6008.9906707930941,\n",
       "  5: 6340.3856328841539,\n",
       "  7: 6417.8905937898953,\n",
       "  9: 6525.8483928680134},\n",
       " 'curb-weight': {1: 5307.094624304741,\n",
       "  3: 4678.4943036827044,\n",
       "  5: 4509.6440890433287,\n",
       "  7: 4116.4045468656695,\n",
       "  9: 4150.2355008180575},\n",
       " 'engine-size': {1: 3659.8845141171978,\n",
       "  3: 2866.128241897412,\n",
       "  5: 2980.197759700347,\n",
       "  7: 3380.7477010933349,\n",
       "  9: 3420.8448479388012},\n",
       " 'height': {1: 8735.6234889683219,\n",
       "  3: 8080.4136151848752,\n",
       "  5: 7854.3158080423691,\n",
       "  7: 7804.1692326036882,\n",
       "  9: 7836.5904910675163},\n",
       " 'highway-mpg': {1: 5471.4759078322877,\n",
       "  3: 4882.2369692599832,\n",
       "  5: 4502.3925655648982,\n",
       "  7: 4447.132235791225,\n",
       "  9: 4328.226709936609},\n",
       " 'horsepower': {1: 4051.2569525343874,\n",
       "  3: 3840.438492267861,\n",
       "  5: 3700.9097844870716,\n",
       "  7: 3984.4705724360128,\n",
       "  9: 4136.6946508468782},\n",
       " 'length': {1: 5097.261876308864,\n",
       "  3: 4869.2211346569893,\n",
       "  5: 4998.3238408616553,\n",
       "  7: 5282.5540453056474,\n",
       "  9: 5356.0016753496038},\n",
       " 'peak-rpm': {1: 8301.2184226973859,\n",
       "  3: 7970.9291256396082,\n",
       "  5: 7573.7058994439913,\n",
       "  7: 8021.0841960105663,\n",
       "  9: 8019.6922470824211},\n",
       " 'stroke': {1: 8544.0295039105986,\n",
       "  3: 7849.1088234556373,\n",
       "  5: 7471.208972256718,\n",
       "  7: 7507.0856147753293,\n",
       "  9: 7385.3154030203777},\n",
       " 'wheel-base': {1: 4236.983760412475,\n",
       "  3: 5378.7306913078528,\n",
       "  5: 5825.0006556674025,\n",
       "  7: 5730.4977250972834,\n",
       "  9: 5796.5268870961972},\n",
       " 'width': {1: 4879.0455607619406,\n",
       "  3: 3983.6558504779846,\n",
       "  5: 4389.9721015554296,\n",
       "  7: 4498.0141536667388,\n",
       "  9: 4509.8831299526264}}"
      ]
     },
     "execution_count": 64,
     "metadata": {},
     "output_type": "execute_result"
    }
   ],
   "source": [
    "# Testing the RMSE for each column using k values of 1, 3, 5, 7, 9\n",
    "k_vals = [1, 3, 5, 7, 9]\n",
    "k_rmse_values = {}\n",
    "for f in features:\n",
    "    rmses = {}\n",
    "    for k in k_vals:\n",
    "        rmses[k] = (knn_train_test(num_cars[[f]], num_cars[target], k))\n",
    "    k_rmse_values[f] = rmses\n",
    "    \n",
    "k_rmse_values       "
   ]
  },
  {
   "cell_type": "code",
   "execution_count": 86,
   "metadata": {
    "collapsed": false
   },
   "outputs": [
    {
     "data": {
      "image/png": "[encoded data removed]",
      "text/plain": [
       "<matplotlib.figure.Figure at 0x7fae8c157048>"
      ]
     },
     "metadata": {},
     "output_type": "display_data"
    }
   ],
   "source": [
    "for key, rmses in k_rmse_values.items():\n",
    "    x = k_vals\n",
    "    y = list(rmses.values())\n",
    "    \n",
    "    plt.plot(x,y)\n",
    "    plt.xlabel('k value')\n",
    "    plt.ylabel('RMSE')"
   ]
  },
  {
   "cell_type": "markdown",
   "metadata": {},
   "source": [
    "# Multivariate KNN"
   ]
  },
  {
   "cell_type": "code",
   "execution_count": 126,
   "metadata": {
    "collapsed": true
   },
   "outputs": [],
   "source": [
    "def knn_train_test(col_names, target_col_name, df, k_val):\n",
    "    kf = KFold(5, shuffle=True, random_state=27)\n",
    "    knn = KNeighborsRegressor(n_neighbors=k_val)\n",
    "    mses = cross_val_score(knn, df[col_names], df[target_col_name], scoring='neg_mean_squared_error', cv=kf)\n",
    "    return np.sqrt(np.absolute(mses)).mean()"
   ]
  },
  {
   "cell_type": "code",
   "execution_count": 79,
   "metadata": {
    "collapsed": false
   },
   "outputs": [
    {
     "data": {
      "text/plain": [
       "{'bore': 3,\n",
       " 'city-mpg': 5,\n",
       " 'compression-rate': 3,\n",
       " 'curb-weight': 7,\n",
       " 'engine-size': 3,\n",
       " 'height': 7,\n",
       " 'highway-mpg': 9,\n",
       " 'horsepower': 5,\n",
       " 'length': 3,\n",
       " 'peak-rpm': 5,\n",
       " 'stroke': 9,\n",
       " 'wheel-base': 1,\n",
       " 'width': 3}"
      ]
     },
     "execution_count": 79,
     "metadata": {},
     "output_type": "execute_result"
    }
   ],
   "source": [
    "# Best k values in each feature\n",
    "best_k = {}\n",
    "for f in features:\n",
    "    d = k_rmse_values[f]\n",
    "    best_k[f] = min(d, key=d.get)\n",
    "best_k"
   ]
  },
  {
   "cell_type": "code",
   "execution_count": 115,
   "metadata": {
    "collapsed": false
   },
   "outputs": [
    {
     "name": "stdout",
     "output_type": "stream",
     "text": [
      "engine-size         2866.128242\n",
      "horsepower          3700.909784\n",
      "width               3983.655850\n",
      "curb-weight         4116.404547\n",
      "wheel-base          4236.983760\n",
      "highway-mpg         4328.226710\n",
      "city-mpg            4397.555125\n",
      "length              4869.221135\n",
      "compression-rate    6008.990671\n",
      "bore                6666.874678\n",
      "stroke              7385.315403\n",
      "peak-rpm            7573.705899\n",
      "height              7804.169233\n",
      "dtype: float64\n",
      "bore                3\n",
      "city-mpg            5\n",
      "compression-rate    3\n",
      "curb-weight         7\n",
      "engine-size         3\n",
      "height              7\n",
      "highway-mpg         9\n",
      "horsepower          5\n",
      "length              3\n",
      "peak-rpm            5\n",
      "stroke              9\n",
      "wheel-base          1\n",
      "width               3\n",
      "dtype: int64\n"
     ]
    }
   ],
   "source": [
    "best_rmse_values = {}\n",
    "\n",
    "for key, rmses in k_rmse_values.items():\n",
    "    best_rmse_values[key] = rmses[best_k[key]]\n",
    "    \n",
    "best_rmses = pd.Series(best_rmse_values).sort_values()\n",
    "best_ks = pd.Series(best_k)\n",
    "print(best_rmses)\n",
    "print(best_ks)"
   ]
  },
  {
   "cell_type": "code",
   "execution_count": 127,
   "metadata": {
    "collapsed": false
   },
   "outputs": [
    {
     "data": {
      "text/plain": [
       "2911.3241214963318"
      ]
     },
     "execution_count": 127,
     "metadata": {},
     "output_type": "execute_result"
    }
   ],
   "source": [
    "# Best 2 features\n",
    "col_names = best_rmses[:2].index\n",
    "k_value = int(best_ks[col_names].median())\n",
    "knn_train_test(col_names, target, num_cars, k_value)"
   ]
  },
  {
   "cell_type": "code",
   "execution_count": 129,
   "metadata": {
    "collapsed": false
   },
   "outputs": [
    {
     "data": {
      "text/plain": [
       "2783.1628004834956"
      ]
     },
     "execution_count": 129,
     "metadata": {},
     "output_type": "execute_result"
    }
   ],
   "source": [
    "# Best 3 features\n",
    "col_names = best_rmses[:3].index\n",
    "k_value = int(best_ks[col_names].median())\n",
    "knn_train_test(col_names, target, num_cars, k_value)"
   ]
  },
  {
   "cell_type": "code",
   "execution_count": 130,
   "metadata": {
    "collapsed": false
   },
   "outputs": [
    {
     "data": {
      "text/plain": [
       "2876.2150979435437"
      ]
     },
     "execution_count": 130,
     "metadata": {},
     "output_type": "execute_result"
    }
   ],
   "source": [
    "# Best 4 features\n",
    "col_names = best_rmses[:4].index\n",
    "k_value = int(best_ks[col_names].median())\n",
    "knn_train_test(col_names, target, num_cars, k_value)"
   ]
  },
  {
   "cell_type": "code",
   "execution_count": 131,
   "metadata": {
    "collapsed": false
   },
   "outputs": [
    {
     "data": {
      "text/plain": [
       "3230.3148918769016"
      ]
     },
     "execution_count": 131,
     "metadata": {},
     "output_type": "execute_result"
    }
   ],
   "source": [
    "# Best 5 features\n",
    "col_names = best_rmses[:5].index\n",
    "k_value = int(best_ks[col_names].median())\n",
    "knn_train_test(col_names, target, num_cars, k_value)"
   ]
  },
  {
   "cell_type": "markdown",
   "metadata": {},
   "source": [
    "This k value still might not be optimal considering it is just the median of the best k values for each column"
   ]
  },
  {
   "cell_type": "markdown",
   "metadata": {},
   "source": [
    "# Optimization of k in multivariate model"
   ]
  },
  {
   "cell_type": "code",
   "execution_count": 136,
   "metadata": {
    "collapsed": false
   },
   "outputs": [
    {
     "data": {
      "text/plain": [
       "{2: {1: 3024.0615378831512,\n",
       "  2: 2896.3063180253075,\n",
       "  3: 2777.3488112969399,\n",
       "  4: 2911.3241214963318,\n",
       "  5: 2840.6798854493113,\n",
       "  6: 2986.4813978556754,\n",
       "  7: 3128.5926982158567,\n",
       "  8: 3250.478730453754,\n",
       "  9: 3380.0881717737029,\n",
       "  10: 3514.7205473621675,\n",
       "  11: 3655.4936056132196,\n",
       "  12: 3746.104717002866,\n",
       "  13: 3845.2984572196337,\n",
       "  14: 3967.1303708028245,\n",
       "  15: 4098.4159030011779,\n",
       "  16: 4115.493482699203,\n",
       "  17: 4168.4172539080828,\n",
       "  18: 4211.8976584499387,\n",
       "  19: 4238.1197034458246,\n",
       "  20: 4303.8329807670989,\n",
       "  21: 4387.0246556010879,\n",
       "  22: 4451.7606819096218,\n",
       "  23: 4519.3628540109212,\n",
       "  24: 4565.8856210241129,\n",
       "  25: 4609.5062012065991},\n",
       " 3: {1: 2909.3146266239864,\n",
       "  2: 2555.4569837812951,\n",
       "  3: 2783.1628004834956,\n",
       "  4: 2897.2469182378636,\n",
       "  5: 3132.7395350211295,\n",
       "  6: 3308.2005955901418,\n",
       "  7: 3394.2496822948242,\n",
       "  8: 3449.8989461180195,\n",
       "  9: 3474.3456738732966,\n",
       "  10: 3507.7761748327584,\n",
       "  11: 3534.7129119804986,\n",
       "  12: 3657.5473037040101,\n",
       "  13: 3748.0470571025535,\n",
       "  14: 3846.1676474819965,\n",
       "  15: 3884.1117103786833,\n",
       "  16: 3932.2580668161354,\n",
       "  17: 4014.4001183939858,\n",
       "  18: 4101.7626716315353,\n",
       "  19: 4165.1146787127809,\n",
       "  20: 4204.6691065452032,\n",
       "  21: 4242.819343851791,\n",
       "  22: 4294.2042632117209,\n",
       "  23: 4320.333952756735,\n",
       "  24: 4340.4600850000934,\n",
       "  25: 4362.1950282160169},\n",
       " 4: {1: 2841.927198807115,\n",
       "  2: 2546.3136630913805,\n",
       "  3: 2710.3971118917389,\n",
       "  4: 2876.2150979435437,\n",
       "  5: 3083.4558548190953,\n",
       "  6: 3271.2537814420407,\n",
       "  7: 3409.570471123699,\n",
       "  8: 3412.7024891174683,\n",
       "  9: 3517.4858381762328,\n",
       "  10: 3524.2659228343423,\n",
       "  11: 3575.5757397401744,\n",
       "  12: 3681.7339788132972,\n",
       "  13: 3769.3944070732236,\n",
       "  14: 3843.8207689326073,\n",
       "  15: 3927.8860790469116,\n",
       "  16: 3984.2067006169905,\n",
       "  17: 4034.256892984778,\n",
       "  18: 4075.2251623795105,\n",
       "  19: 4086.1307692316527,\n",
       "  20: 4138.355268619157,\n",
       "  21: 4174.8737872213269,\n",
       "  22: 4186.0378632803422,\n",
       "  23: 4229.7692049629859,\n",
       "  24: 4268.6516508515915,\n",
       "  25: 4327.5214910176119}}"
      ]
     },
     "execution_count": 136,
     "metadata": {},
     "output_type": "execute_result"
    }
   ],
   "source": [
    "# Using result with lowest rmse from above\n",
    "k_test = {}\n",
    "for i in range(2,5):\n",
    "    num_cols_k_test = {}\n",
    "    col_names = best_rmses[:i].index\n",
    "    for k in range(1,26):\n",
    "        num_cols_k_test[k] = knn_train_test(col_names, target, num_cars, k)\n",
    "    k_test[i] = num_cols_k_test\n",
    "k_test"
   ]
  },
  {
   "cell_type": "markdown",
   "metadata": {},
   "source": [
    "The best k value is 2 using the top 4 columns: engine-size, horsepower, width, curb-weight."
   ]
  },
  {
   "cell_type": "code",
   "execution_count": null,
   "metadata": {
    "collapsed": true
   },
   "outputs": [],
   "source": [
    "\n",
    "\n",
    "def knn_train_predict:\n",
    "    col_names = ['engine-size', 'horsepower', 'width', 'curb-weight']\n",
    "    kf = KFold(5, shuffle=True, random_state=27)\n",
    "    knn = KNeighborsRegressor(n_neighbors=2)\n",
    "    mses = cross_val_score(knn, num_cars[col_names], num_cars[['price']], scoring='neg_mean_squared_error', cv=kf)\n",
    "    return np.sqrt(np.absolute(mses)).mean()"
   ]
  }
 ],
 "metadata": {
  "kernelspec": {
   "display_name": "Python 3",
   "language": "python",
   "name": "python3"
  },
  "language_info": {
   "codemirror_mode": {
    "name": "ipython",
    "version": 3
   },
   "file_extension": ".py",
   "mimetype": "text/x-python",
   "name": "python",
   "nbconvert_exporter": "python",
   "pygments_lexer": "ipython3",
   "version": "3.4.3"
  }
 },
 "nbformat": 4,
 "nbformat_minor": 2
}
